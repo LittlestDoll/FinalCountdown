{
 "cells": [
  {
   "cell_type": "code",
   "execution_count": 307,
   "metadata": {},
   "outputs": [],
   "source": [
    "import pandas as pd\n",
    "import numpy as np\n",
    "from scipy.spatial import distance\n",
    "reviews = pd.read_csv('beer_reviews.csv')\n",
    "breweries = pd.read_csv('breweries.csv')\n",
    "\n",
    "data = pd.merge(reviews, breweries, how='inner', left_on = 'brewery_name', right_on = 'name')\n",
    "data = data.fillna(value = 0)\n",
    "\n",
    "def similar_reviewers(beer_1, beer_2):\n",
    "    reviews_1 = data.loc[data['beer_name'] == beer_1]\n",
    "    reviews_2 = data.loc[data['beer_name'] == beer_2]\n",
    "    same_reviewers = list(set(reviews_1['review_profilename']).intersection(reviews_2['review_profilename']))\n",
    "    return same_reviewers\n",
    "\n",
    "def get_beer_reviews(beer, reviewers):\n",
    "    mask = (data.review_profilename.isin(reviewers)) & (data.beer_name==beer)\n",
    "    reviews = data[mask]\n",
    "    reviews = reviews[reviews.review_profilename.duplicated()==False]\n",
    "    return reviews\n",
    "\n",
    "features = ['review_overall', 'review_aroma', 'review_palate', 'review_taste', 'beer_abv']\n",
    "def calculate_similarity(beer1, beer2):\n",
    "    beer_1_reviewers = data[data.beer_name==beer1].review_profilename.unique()\n",
    "    beer_2_reviewers = data[data.beer_name==beer2].review_profilename.unique()\n",
    "    common_reviewers = set(beer_1_reviewers).intersection(beer_2_reviewers)\n",
    "    \n",
    "    beer_1_reviews = get_beer_reviews(beer1, common_reviewers)\n",
    "    beer_2_reviews = get_beer_reviews(beer2, common_reviewers)\n",
    "    \n",
    "    beer_1_vals = []\n",
    "    beer_2_vals = []\n",
    "    for f in features:\n",
    "        beer_1_vals.append(beer_1_reviews[f])\n",
    "        beer_2_vals.append(beer_2_reviews[f])\n",
    "    dist = distance.euclidean(beer_1_vals[0], beer_2_vals[0])\n",
    "    return dist\n",
    "\n",
    "def recommend_beer(user_beer):\n",
    "    beers = np.random.choice(data['beer_name'], 2, replace = False)\n",
    "    max_distance = 100\n",
    "    sim_beer = \"Sorry, we couldn't find anything similar! Try again?\"\n",
    "    for beer in beers:\n",
    "        print (\"starting\", beer)\n",
    "        if user_beer != beer:\n",
    "            if len(similar_reviewers(user_beer, beer)) != 0:\n",
    "                row = [beer, calculate_similarity(user_beer, beer)]\n",
    "                if row[1] < max_distance:\n",
    "                    print (row)\n",
    "                    max_distance = row[1]\n",
    "                    sim_beer = row[0]\n",
    "    return(sim_beer)"
   ]
  },
  {
   "cell_type": "code",
   "execution_count": 308,
   "metadata": {},
   "outputs": [
    {
     "name": "stdout",
     "output_type": "stream",
     "text": [
      "starting SkullSplitter\n",
      "['SkullSplitter', 15.231546211727817]\n",
      "starting Post Road Pumpkin Ale\n",
      "['Post Road Pumpkin Ale', 16.926310879810757]\n"
     ]
    },
    {
     "data": {
      "text/plain": [
       "\"Sorry, we couldn't find anything similar! Try again?\""
      ]
     },
     "execution_count": 308,
     "metadata": {},
     "output_type": "execute_result"
    }
   ],
   "source": [
    "recommend_beer(\"Trois Pistoles\")"
   ]
  },
  {
   "cell_type": "code",
   "execution_count": null,
   "metadata": {
    "collapsed": true
   },
   "outputs": [],
   "source": []
  }
 ],
 "metadata": {
  "kernelspec": {
   "display_name": "Python 3",
   "language": "python",
   "name": "python3"
  },
  "language_info": {
   "codemirror_mode": {
    "name": "ipython",
    "version": 3
   },
   "file_extension": ".py",
   "mimetype": "text/x-python",
   "name": "python",
   "nbconvert_exporter": "python",
   "pygments_lexer": "ipython3",
   "version": "3.6.2"
  }
 },
 "nbformat": 4,
 "nbformat_minor": 2
}
