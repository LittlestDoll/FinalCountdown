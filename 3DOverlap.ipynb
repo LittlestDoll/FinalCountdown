{
 "cells": [
  {
   "cell_type": "code",
   "execution_count": 30,
   "metadata": {},
   "outputs": [],
   "source": [
    "import plotly.plotly as py\n",
    "import plotly\n",
    "plotly.tools.set_credentials_file(username='rrwolber', api_key='hMrDZqdEQUNwLwr0ubw3')\n",
    "import plotly.graph_objs as go\n",
    "\n",
    "import pandas as pd"
   ]
  },
  {
   "cell_type": "code",
   "execution_count": 31,
   "metadata": {},
   "outputs": [],
   "source": [
    "beer_df = pd.read_csv(\"beer_styles.csv\")"
   ]
  },
  {
   "cell_type": "code",
   "execution_count": 36,
   "metadata": {},
   "outputs": [
    {
     "data": {
      "text/html": [
       "<iframe id=\"igraph\" scrolling=\"no\" style=\"border:none;\" seamless=\"seamless\" src=\"https://plot.ly/~rrwolber/30.embed\" height=\"800px\" width=\"800px\"></iframe>"
      ],
      "text/plain": [
       "<plotly.tools.PlotlyDisplay object>"
      ]
     },
     "execution_count": 36,
     "metadata": {},
     "output_type": "execute_result"
    }
   ],
   "source": [
    "trace1 = go.Scatter3d(\n",
    "    x=beer_df['ABV_mid'],\n",
    "    y=beer_df['SRM_mid'],\n",
    "    z=beer_df['IBU_mid'],\n",
    "    text=beer_df['Name'],\n",
    "    mode='markers',\n",
    "    marker=dict(\n",
    "        sizemode='diameter',\n",
    "        sizeref=1,\n",
    "        size=beer_df['SRM_mid'],\n",
    "        color = beer_df['SRM_mid'],\n",
    "        colorscale = 'Copper',\n",
    "        colorbar = dict(title = 'SRM<br>Range'),\n",
    "        line=dict(color='rgb(140, 140, 170)')\n",
    "    )\n",
    ")\n",
    "\n",
    "data=[trace1]\n",
    "layout= go.Layout(height=800, width=800, title='Comparison of Beer Style and Characteristics - SRM Overlap',\n",
    "            xaxis=dict(\n",
    "                title='Average SRM'),\n",
    "            yaxis=dict(\n",
    "                title='Average IBU'))\n",
    "fig=dict(data=data, layout=layout)\n",
    "py.iplot(fig)"
   ]
  },
  {
   "cell_type": "code",
   "execution_count": 37,
   "metadata": {},
   "outputs": [
    {
     "data": {
      "text/html": [
       "<iframe id=\"igraph\" scrolling=\"no\" style=\"border:none;\" seamless=\"seamless\" src=\"https://plot.ly/~rrwolber/32.embed\" height=\"800px\" width=\"800px\"></iframe>"
      ],
      "text/plain": [
       "<plotly.tools.PlotlyDisplay object>"
      ]
     },
     "execution_count": 37,
     "metadata": {},
     "output_type": "execute_result"
    }
   ],
   "source": [
    "trace1 = go.Scatter3d(\n",
    "    x=beer_df['ABV_mid'],\n",
    "    y=beer_df['SRM_mid'],\n",
    "    z=beer_df['IBU_mid'],\n",
    "    text=beer_df['Name'],\n",
    "    mode='markers',\n",
    "    marker=dict(\n",
    "        sizemode='diameter',\n",
    "        sizeref=1,\n",
    "        size=beer_df['IBU_mid'],\n",
    "        color = beer_df['IBU_mid'],\n",
    "        colorscale = 'Copper',\n",
    "        colorbar = dict(title = 'IBU<br>Range'),\n",
    "        line=dict(color='rgb(140, 140, 170)')\n",
    "    )\n",
    ")\n",
    "\n",
    "data=[trace1]\n",
    "layout= go.Layout(height=800, width=800, title='Comparison of Beer Style and Characteristics - IBU Overlap',\n",
    "            xaxis=dict(\n",
    "                title='Average SRM'),\n",
    "            yaxis=dict(\n",
    "                title='Average IBU'))\n",
    "fig=dict(data=data, layout=layout)\n",
    "py.iplot(fig)"
   ]
  },
  {
   "cell_type": "code",
   "execution_count": 38,
   "metadata": {},
   "outputs": [
    {
     "data": {
      "text/html": [
       "<iframe id=\"igraph\" scrolling=\"no\" style=\"border:none;\" seamless=\"seamless\" src=\"https://plot.ly/~rrwolber/34.embed\" height=\"800px\" width=\"800px\"></iframe>"
      ],
      "text/plain": [
       "<plotly.tools.PlotlyDisplay object>"
      ]
     },
     "execution_count": 38,
     "metadata": {},
     "output_type": "execute_result"
    }
   ],
   "source": [
    "trace1 = go.Scatter3d(\n",
    "    x=beer_df['ABV_mid'],\n",
    "    y=beer_df['SRM_mid'],\n",
    "    z=beer_df['IBU_mid'],\n",
    "    text=beer_df['Name'],\n",
    "    mode='markers',\n",
    "    marker=dict(\n",
    "        sizemode='diameter',\n",
    "        sizeref=1,\n",
    "        size=beer_df['ABV_mid'],\n",
    "        color = beer_df['ABV_mid'],\n",
    "        colorscale = 'Copper',\n",
    "        colorbar = dict(title = 'ABV<br>Range'),\n",
    "        line=dict(color='rgb(140, 140, 170)')\n",
    "    )\n",
    ")\n",
    "\n",
    "data=[trace1]\n",
    "layout= go.Layout(height=800, width=800, title='Comparison of Beer Style and Characteristics - IBU Overlap',\n",
    "            xaxis=dict(\n",
    "                title='Average SRM'),\n",
    "            yaxis=dict(\n",
    "                title='Average IBU'))\n",
    "fig=dict(data=data, layout=layout)\n",
    "py.iplot(fig)"
   ]
  },
  {
   "cell_type": "code",
   "execution_count": null,
   "metadata": {
    "collapsed": true
   },
   "outputs": [],
   "source": []
  }
 ],
 "metadata": {
  "kernelspec": {
   "display_name": "Python 3",
   "language": "python",
   "name": "python3"
  },
  "language_info": {
   "codemirror_mode": {
    "name": "ipython",
    "version": 3
   },
   "file_extension": ".py",
   "mimetype": "text/x-python",
   "name": "python",
   "nbconvert_exporter": "python",
   "pygments_lexer": "ipython3",
   "version": "3.6.1"
  }
 },
 "nbformat": 4,
 "nbformat_minor": 2
}
